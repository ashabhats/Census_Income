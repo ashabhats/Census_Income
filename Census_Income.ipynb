{
 "cells": [
  {
   "cell_type": "code",
   "execution_count": 27,
   "metadata": {},
   "outputs": [
    {
     "data": {
      "text/plain": [
       "(93.79419916500854, 6.205800834991455)"
      ]
     },
     "execution_count": 27,
     "metadata": {},
     "output_type": "execute_result"
    },
    {
     "data": {
      "image/png": "[encoded data removed]",
      "text/plain": [
       "<Figure size 432x288 with 1 Axes>"
      ]
     },
     "metadata": {},
     "output_type": "display_data"
    }
   ],
   "source": [
    "import pandas as pd\n",
    "import seaborn as sns\n",
    "import matplotlib.pyplot as plt\n",
    "from scipy import stats\n",
    "import warnings\n",
    "warnings.filterwarnings(\"ignore\")\n",
    "import numpy as np\n",
    "from sklearn.ensemble import RandomForestRegressor\n",
    "\n",
    "# Reading data\n",
    "train = pd.read_csv(r'D:\\Asha\\Imp\\ML\\Census_Income\\train.csv')\n",
    "test = pd.read_csv(r'D:\\Asha\\Imp\\ML\\Census_Income\\test.csv')\n",
    "\n",
    "# Taking a copy of original data\n",
    "train_original = train.copy()\n",
    "test_original = test.copy()\n",
    "\n",
    "# Checking the data size\n",
    "#train.info()\n",
    "# 199523 rows & 41 columns\n",
    "\n",
    "#train['income_level'].unique() , test['income_level'].unique()\n",
    "# Encoding Target/Dependent variable as the values are not same in train & test data sets.\n",
    "train['income_level'] = train['income_level'].map({50000:1,-50000:0})\n",
    "test['income_level'] = test['income_level'].replace(['-50000', ' 50000+.'],[0,1])\n",
    "\n",
    "# Checking the distribution of outcome variable.\n",
    "sns.countplot('income_level',data=train)\n",
    "# This dataset is imbalanced. Getting the percentage of >50000 & <50000 categories\n",
    "cnt_less = len(train[train['income_level'] == 0])\n",
    "cnt_more = len(train[train['income_level'] == 1])\n",
    "percent_less = cnt_less/(cnt_less+cnt_more)*100\n",
    "percent_more = cnt_more/(cnt_less+cnt_more)*100\n",
    "percent_less ,percent_more\n",
    "# % of people having <50000 income is 93.79% and % of people having >50000 income is 6.21%"
   ]
  },
  {
   "cell_type": "code",
   "execution_count": 2,
   "metadata": {},
   "outputs": [],
   "source": [
    "# Separating Numerical & Categorical columns for analysis. This will help in analysis.\n",
    "train_cat = train.iloc[:,np.r_[1,4,6:16,19:29,30:35,36]]\n",
    "train_num = train.iloc[:,np.r_[0,2:4,5,16:19,29,35,37:41]]\n",
    "\n",
    "test_cat = test.iloc[:,np.r_[1,4,6:16,19:29,30:35,36]]\n",
    "test_num = test.iloc[:,np.r_[0,2:4,5,16:19,29,35,37:41]]"
   ]
  },
  {
   "cell_type": "code",
   "execution_count": 3,
   "metadata": {},
   "outputs": [],
   "source": [
    "# Checking for missing values on Numerical data set\n",
    "m,n = train_num.isnull().sum() , test_num.isnull().sum()\n",
    "# There are no missing values in train_num & test_num data sets. Checking for Variance\n",
    "#train_num.var()\n",
    "# There are no variables with significantly less Variance. Checking for correlation\n",
    "#train_num.corr()\n",
    "\n",
    "# Checking for missing values on Categorical data set\n",
    "train_cat.isnull().sum()/len(train_cat)*100 , test_cat.isnull().sum()\n",
    "# Dropping columns migration_msa ,migration_reg,migration_within_reg,migration_sunbelt as these have ~50% missing values\n",
    "train_cat = train_cat.drop(['migration_msa' ,'migration_reg','migration_within_reg','migration_sunbelt'],1)\n",
    "test_cat = test_cat.drop(['migration_msa' ,'migration_reg','migration_within_reg','migration_sunbelt'],1)\n",
    "\n",
    "# Factorizing for getting correlation coefficient for categorical variables\n",
    "df_cat_train = train_cat.apply(lambda x:pd.factorize(x)[0])\n",
    "df_cat_test = test_cat.apply(lambda x:pd.factorize(x)[0])"
   ]
  },
  {
   "cell_type": "code",
   "execution_count": 4,
   "metadata": {},
   "outputs": [],
   "source": [
    "# Concatinatig Numerical & Categorical datasets into Train & Test \n",
    "d_train = pd.concat([train_num,df_cat_train],1)\n",
    "d_test = pd.concat([test_num,df_cat_test],1)"
   ]
  },
  {
   "cell_type": "code",
   "execution_count": 18,
   "metadata": {},
   "outputs": [
    {
     "data": {
      "image/png": "[encoded data removed]",
      "text/plain": [
       "<Figure size 432x288 with 1 Axes>"
      ]
     },
     "metadata": {},
     "output_type": "display_data"
    }
   ],
   "source": [
    "# Checking for important features\n",
    "df_train = d_train.drop('income_level',1)\n",
    "model = RandomForestRegressor(random_state=1, max_depth=10)\n",
    "df_train=pd.get_dummies(df_train)\n",
    "model.fit(df_train,train.income_level)\n",
    "\n",
    "features = df_train.columns\n",
    "importances = model.feature_importances_\n",
    "indices = np.argsort(importances)[-10:]  # top 10 features\n",
    "plt.title('Feature Importances')\n",
    "plt.barh(range(len(indices)), importances[indices], color='b', align='center')\n",
    "plt.yticks(range(len(indices)), [features[i] for i in indices])\n",
    "plt.xlabel('Relative Importance')\n",
    "plt.show()\n",
    "\n",
    "# Taking top 10 features for the model\n",
    "d_train_imp = d_train.loc[:,['industry_code', 'num_person_Worked_employer', 'education',\n",
    "       'capital_losses', 'age', 'sex', 'dividend_from_Stocks',\n",
    "       'weeks_worked_in_year', 'occupation_code', 'capital_gains','income_level']]"
   ]
  },
  {
   "cell_type": "code",
   "execution_count": 19,
   "metadata": {
    "scrolled": false
   },
   "outputs": [
    {
     "data": {
      "text/plain": [
       "<matplotlib.axes._subplots.AxesSubplot at 0x5436da0>"
      ]
     },
     "execution_count": 19,
     "metadata": {},
     "output_type": "execute_result"
    },
    {
     "data": {
      "image/png": "[encoded data removed]",
      "text/plain": [
       "<Figure size 432x288 with 1 Axes>"
      ]
     },
     "metadata": {},
     "output_type": "display_data"
    }
   ],
   "source": [
    "# Sampling Techniques\n",
    "\n",
    "# 1. Undersampling \n",
    "\n",
    "# finding no. of samples which are >50K\n",
    "more_50k = len(d_train[d_train['income_level'] == 1])\n",
    "\n",
    "# getting indices of <50k records\n",
    "less_50k_indices = d_train[d_train.income_level == 0].index\n",
    "\n",
    "# getting random sample from <50k indices\n",
    "random_indices = np.random.choice(less_50k_indices,more_50k, replace=False)\n",
    "\n",
    "# finding indices of >50k samples\n",
    "more_50k_indices = d_train[d_train.income_level == 1].index\n",
    "\n",
    "# Concatinating more than 50k & random less than 50k samples\n",
    "under_sample_indices = np.concatenate([more_50k_indices,random_indices])\n",
    "\n",
    "# Getting the dataframe for the above . Here the income levle is evenly disrtibuted.\n",
    "under_sample = d_train.loc[under_sample_indices]\n",
    "\n",
    "sns.countplot('income_level',data=under_sample)"
   ]
  },
  {
   "cell_type": "code",
   "execution_count": 12,
   "metadata": {},
   "outputs": [
    {
     "data": {
      "text/plain": [
       "(0.8734617442482611, 0.8495289367429341, array([[3047,  645],\n",
       "        [ 473, 3265]], dtype=int64))"
      ]
     },
     "execution_count": 12,
     "metadata": {},
     "output_type": "execute_result"
    }
   ],
   "source": [
    "# Running Logistic Regression on undersampled(balanced) data\n",
    "from sklearn.model_selection import train_test_split\n",
    "from sklearn import cross_validation,metrics\n",
    "from sklearn.metrics import accuracy_score,recall_score,confusion_matrix\n",
    "from sklearn.linear_model import LogisticRegression\n",
    "\n",
    "X_under = under_sample.loc[:,under_sample.columns != 'income_level']\n",
    "y_under = under_sample.loc[:,under_sample.columns == 'income_level']\n",
    "X_under_train, X_under_test, y_under_train, y_under_test = train_test_split(X_under,y_under,test_size = 0.3, random_state = 0)\n",
    "\n",
    "alg = LogisticRegression()\n",
    "alg.fit(X_under_train,y_under_train)\n",
    "y_under_pred = alg.predict(X_under_test)\n",
    "\n",
    "recall_score(y_under_test,y_under_pred) , accuracy_score(y_under_test,y_under_pred),confusion_matrix(y_under_test,y_under_pred)\n",
    "# (0.8764044943820225, 0.8524899057873486), array([[3058,  634],[ 462, 3276]], dtype=int64))"
   ]
  },
  {
   "cell_type": "code",
   "execution_count": 20,
   "metadata": {},
   "outputs": [
    {
     "data": {
      "text/plain": [
       "(0.8726519337016575, 0.8201379955560754, array([[45932, 10305],\n",
       "        [  461,  3159]], dtype=int64))"
      ]
     },
     "execution_count": 20,
     "metadata": {},
     "output_type": "execute_result"
    }
   ],
   "source": [
    "# Logistic Regression using weights on the unbalanced data set\n",
    "X = d_train_imp.loc[:,d_train_imp.columns != 'income_level']\n",
    "y = d_train_imp.loc[:,d_train_imp.columns == 'income_level']\n",
    "X_train, X_test, y_train, y_test = train_test_split(X,y,test_size = 0.3, random_state = 0)\n",
    "\n",
    "alg = LogisticRegression(class_weight = 'balanced')\n",
    "alg.fit(X_train,y_train)\n",
    "y_pred = alg.predict(X_test)\n",
    "\n",
    "recall_score(y_test,y_pred) , accuracy_score(y_test,y_pred) , confusion_matrix(y_test,y_pred)\n",
    "# (0.8726519337016575, 0.8201379955560754, array([[45932, 10305],[  461,  3159]], dtype=int64))"
   ]
  },
  {
   "cell_type": "code",
   "execution_count": 24,
   "metadata": {},
   "outputs": [
    {
     "data": {
      "text/plain": [
       "(0.878600269179004, 0.8241475516648011, array([[46067, 10075],\n",
       "        [  451,  3264]], dtype=int64))"
      ]
     },
     "execution_count": 24,
     "metadata": {},
     "output_type": "execute_result"
    }
   ],
   "source": [
    "# Oversampling with SMOTE\n",
    "from imblearn.over_sampling import SMOTE\n",
    "from sklearn.naive_bayes import GaussianNB\n",
    "\n",
    "X = d_train_imp.loc[:,d_train_imp.columns != 'income_level']\n",
    "y = d_train_imp.loc[:,d_train_imp.columns == 'income_level']\n",
    "X_train, X_test, y_train, y_test = train_test_split(X,y,test_size = 0.3, random_state = 0,stratify=y)\n",
    "\n",
    "sm = SMOTE(random_state=2)\n",
    "X_train_res, y_train_res = sm.fit_sample(X_train,y_train)\n",
    "\n",
    "alg = LogisticRegression()\n",
    "alg.fit(X_train_res,y_train_res)\n",
    "y_pred = alg.predict(X_test)\n",
    "\n",
    "recall_score(y_test,y_pred) , accuracy_score(y_test,y_pred) , confusion_matrix(y_test,y_pred)\n",
    "# (0.878600269179004, 0.8241475516648011, array([[46067, 10075], [  451,  3264]], dtype=int64))"
   ]
  },
  {
   "cell_type": "code",
   "execution_count": 25,
   "metadata": {},
   "outputs": [
    {
     "data": {
      "text/plain": [
       "(0.9109017496635262, 0.42735185525502445, array([[22196, 33946],\n",
       "        [  331,  3384]], dtype=int64))"
      ]
     },
     "execution_count": 25,
     "metadata": {},
     "output_type": "execute_result"
    }
   ],
   "source": [
    "# Near Miss\n",
    "from imblearn.under_sampling import NearMiss\n",
    "\n",
    "X = d_train_imp.loc[:,d_train_imp.columns != 'income_level']\n",
    "y = d_train_imp.loc[:,d_train_imp.columns == 'income_level']\n",
    "X_train, X_test, y_train, y_test = train_test_split(X,y,test_size = 0.3, random_state = 0,stratify=y)\n",
    "\n",
    "sm = NearMiss()\n",
    "X_train_res, y_train_res = sm.fit_sample(X_train,y_train)\n",
    "\n",
    "alg = LogisticRegression()\n",
    "alg.fit(X_train_res,y_train_res)\n",
    "y_pred = alg.predict(X_test)\n",
    "\n",
    "recall_score(y_test,y_pred) , accuracy_score(y_test,y_pred) , confusion_matrix(y_test,y_pred)\n",
    "# (0.9109017496635262, 0.42735185525502445, array([[22196, 33946], [  331,  3384]], dtype=int64))"
   ]
  },
  {
   "cell_type": "code",
   "execution_count": null,
   "metadata": {},
   "outputs": [],
   "source": []
  },
  {
   "cell_type": "code",
   "execution_count": null,
   "metadata": {},
   "outputs": [],
   "source": []
  },
  {
   "cell_type": "code",
   "execution_count": null,
   "metadata": {},
   "outputs": [],
   "source": []
  },
  {
   "cell_type": "code",
   "execution_count": null,
   "metadata": {},
   "outputs": [],
   "source": []
  }
 ],
 "metadata": {
  "kernelspec": {
   "display_name": "Python 3",
   "language": "python",
   "name": "python3"
  },
  "language_info": {
   "codemirror_mode": {
    "name": "ipython",
    "version": 3
   },
   "file_extension": ".py",
   "mimetype": "text/x-python",
   "name": "python",
   "nbconvert_exporter": "python",
   "pygments_lexer": "ipython3",
   "version": "3.6.5"
  }
 },
 "nbformat": 4,
 "nbformat_minor": 2
}
